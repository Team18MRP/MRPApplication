{
 "cells": [
  {
   "cell_type": "code",
   "execution_count": 3,
   "id": "5f5efaa9-49ce-4891-855e-2ae28401cefe",
   "metadata": {},
   "outputs": [],
   "source": [
    "import sqlite3\n",
    "import pandas as pd\n",
    "\n",
    "conn = sqlite3.connect(\"business_analyst.db\")\n",
    "cursor = conn.cursor()"
   ]
  },
  {
   "cell_type": "code",
   "execution_count": 5,
   "id": "c9f8a007-9a18-441a-8236-870fd2dc4913",
   "metadata": {},
   "outputs": [
    {
     "name": "stdout",
     "output_type": "stream",
     "text": [
      "File loaded sucessfully!\n",
      "  Unnamed: 0 index                                         Job Title  \\\n",
      "0          0     0  Business Analyst - Clinical & Logistics Platform   \n",
      "1          1     1                                  Business Analyst   \n",
      "2          2     2                                      Data Analyst   \n",
      "3          3     3   Information Security Analyst, Incident Response   \n",
      "4          4     4                     Analyst - FP&A Global Revenue   \n",
      "\n",
      "               Salary Estimate  \\\n",
      "0  $56K-$102K (Glassdoor est.)   \n",
      "1  $56K-$102K (Glassdoor est.)   \n",
      "2  $56K-$102K (Glassdoor est.)   \n",
      "3  $56K-$102K (Glassdoor est.)   \n",
      "4  $56K-$102K (Glassdoor est.)   \n",
      "\n",
      "                                     Job Description Rating  \\\n",
      "0  Company Overview\\n\\n\\nAt Memorial Sloan Ketter...    3.9   \n",
      "1  We are seeking for an energetic and collaborat...    3.8   \n",
      "2  For more than a decade, Asembia has been worki...    3.6   \n",
      "3  Job Description Summary\\nThe Information Secur...    3.6   \n",
      "4  Magnite is the world's largest independent sel...    3.4   \n",
      "\n",
      "                    Company Name            Location        Headquarters  \\\n",
      "0  Memorial Sloan-Kettering\\n3.9        New York, NY        New York, NY   \n",
      "1   Paine Schwartz Partners\\n3.8        New York, NY        New York, NY   \n",
      "2                   Asembia\\n3.6    Florham Park, NJ    Florham Park, NJ   \n",
      "3                        BD\\n3.6  Franklin Lakes, NJ  Franklin Lakes, NJ   \n",
      "4           Rubicon Project\\n3.4        New York, NY     Los Angeles, CA   \n",
      "\n",
      "                    Size Founded       Type of ownership  \\\n",
      "0       10000+ employees    1884  Nonprofit Organization   \n",
      "1      1 to 50 employees      -1       Company - Private   \n",
      "2  501 to 1000 employees    2004       Company - Private   \n",
      "3       10000+ employees    1897        Company - Public   \n",
      "4   201 to 500 employees    2007        Company - Public   \n",
      "\n",
      "                             Industry                     Sector  \\\n",
      "0    Health Care Services & Hospitals                Health Care   \n",
      "1    Venture Capital & Private Equity                    Finance   \n",
      "2           Biotech & Pharmaceuticals  Biotech & Pharmaceuticals   \n",
      "3  Health Care Products Manufacturing              Manufacturing   \n",
      "4                            Internet     Information Technology   \n",
      "\n",
      "                      Revenue  \\\n",
      "0      $2 to $5 billion (USD)   \n",
      "1    Unknown / Non-Applicable   \n",
      "2     $5 to $10 million (USD)   \n",
      "3          $10+ billion (USD)   \n",
      "4  $100 to $500 million (USD)   \n",
      "\n",
      "                                         Competitors Easy Apply  \n",
      "0  Mayo Clinic, The Johns Hopkins Hospital, MD An...         -1  \n",
      "1                                                 -1       True  \n",
      "2                                                 -1         -1  \n",
      "3                            Abbott, Siemens, Baxter         -1  \n",
      "4                 PubMatic, AppNexus, Index Exchange       True  \n"
     ]
    }
   ],
   "source": [
    "file_path = \"BusinessAnalyst.csv\"\n",
    "\n",
    "try:\n",
    "    df = pd.read_csv(file_path)\n",
    "    print(\"File loaded sucessfully!\")\n",
    "    print(df.head())\n",
    "except Exception as e:\n",
    "    print(f\"Error loading file: {e}\")"
   ]
  },
  {
   "cell_type": "code",
   "execution_count": 9,
   "id": "83cf2867-d1ef-4328-aa71-24eafb18ff7d",
   "metadata": {},
   "outputs": [
    {
     "data": {
      "text/plain": [
       "<sqlite3.Cursor at 0x25a814a0dc0>"
      ]
     },
     "execution_count": 9,
     "metadata": {},
     "output_type": "execute_result"
    }
   ],
   "source": [
    "cursor.execute(\"\"\"\n",
    "CREATE TABLE IF NOT EXISTS BusinessAnalyst (\n",
    "    Unique_ID VARCHAR(255) PRIMARY KEY,\n",
    "    Job_Title VARCHAR(255) NOT NULL,\n",
    "    Company_Name VARCHAR(255) NOT NULL,\n",
    "    Location VARCHAR(255) NOT NULL,\n",
    "    SalaryEstimate VARCHAR(50),\n",
    "    Rating DECIMAL(3,2),\n",
    "    Founded INTEGER CHECK (Founded > 0),\n",
    "    Industry VARCHAR(255),\n",
    "    Sector VARCHAR(255),\n",
    "    Revenue VARCHAR(100),\n",
    "    Easy_Apply BOOLEAN\n",
    ")\n",
    "\"\"\")"
   ]
  },
  {
   "cell_type": "code",
   "execution_count": 11,
   "id": "e8fda200-8a32-4eb9-847d-e6e31094141a",
   "metadata": {},
   "outputs": [
    {
     "data": {
      "text/plain": [
       "<sqlite3.Cursor at 0x25a814a0dc0>"
      ]
     },
     "execution_count": 11,
     "metadata": {},
     "output_type": "execute_result"
    }
   ],
   "source": [
    "cursor.execute(\"\"\"\n",
    "CREATE TABLE IF NOT EXISTS Company (\n",
    "    Company_ID INTEGER PRIMARY KEY AUTOINCREMENT,\n",
    "    Company_Name VARCHAR(255) UNIQUE NOT NULL,\n",
    "    Industry VARCHAR(255),\n",
    "    Sector VARCHAR(255),\n",
    "    Revenue VARCHAR(100),\n",
    "    Founded INTEGER CHECK (Founded > 0),\n",
    "    Rating DECIMAL(3,2)\n",
    ")\n",
    "\"\"\")"
   ]
  },
  {
   "cell_type": "code",
   "execution_count": 13,
   "id": "f154f73d-e310-4be2-998d-4aac9cfa6aa0",
   "metadata": {},
   "outputs": [
    {
     "data": {
      "text/plain": [
       "<sqlite3.Cursor at 0x25a814a0dc0>"
      ]
     },
     "execution_count": 13,
     "metadata": {},
     "output_type": "execute_result"
    }
   ],
   "source": [
    "cursor.execute(\"\"\"\n",
    "CREATE TABLE IF NOT EXISTS Jobs (\n",
    "    Job_ID INTEGER PRIMARY KEY AUTOINCREMENT,\n",
    "    Unique_ID VARCHAR(255) UNIQUE NOT NULL,\n",
    "    Job_Title VARCHAR(255) NOT NULL,\n",
    "    Company_ID INTEGER,\n",
    "    Location VARCHAR(255) NOT NULL,\n",
    "    Salary_Estimate VARCHAR(50),\n",
    "    Easy_Apply BOOLEAN,\n",
    "    FOREIGN KEY (Company_ID) REFERENCES Company(Company_ID) ON DELETE CASCADE\n",
    ")\n",
    "\"\"\")"
   ]
  },
  {
   "cell_type": "code",
   "execution_count": 15,
   "id": "2cecd6aa-e1f1-4618-ba53-de332fd57faa",
   "metadata": {},
   "outputs": [],
   "source": [
    "conn.commit()\n",
    "conn.close()"
   ]
  },
  {
   "cell_type": "code",
   "execution_count": 17,
   "id": "ef3b3898-4865-465a-8ea5-e8c0dcf6ea8e",
   "metadata": {},
   "outputs": [
    {
     "name": "stdout",
     "output_type": "stream",
     "text": [
      "Is `index` a Unique Primary Key?: False\n",
      "Missing Values in `index` Column: 0\n"
     ]
    }
   ],
   "source": [
    "index_unique = df[\"index\"].is_unique\n",
    "index_null = df[\"index\"].isnull().sum()\n",
    "\n",
    "print(f\"Is `index` a Unique Primary Key?: {index_unique}\")\n",
    "print(f\"Missing Values in `index` Column: {index_null}\")"
   ]
  },
  {
   "cell_type": "code",
   "execution_count": 19,
   "id": "0f17b367-1f5c-4923-9d32-01a72ff2efb0",
   "metadata": {},
   "outputs": [
    {
     "name": "stdout",
     "output_type": "stream",
     "text": [
      "Unique Job Titles: 2210\n",
      "Unique Company Names: 2197\n",
      "Unique Locations: 218\n"
     ]
    }
   ],
   "source": [
    "print(f\"Unique Job Titles: {df['Job Title'].nunique()}\")\n",
    "print(f\"Unique Company Names: {df['Company Name'].nunique()}\")\n",
    "print(f\"Unique Locations: {df['Location'].nunique()}\")"
   ]
  },
  {
   "cell_type": "code",
   "execution_count": 21,
   "id": "b21c8da6-ac3f-4a21-8132-523743991ef5",
   "metadata": {},
   "outputs": [
    {
     "name": "stdout",
     "output_type": "stream",
     "text": [
      "Total Duplicate Rows: 0\n"
     ]
    }
   ],
   "source": [
    "duplicate_rows = df.duplicated().sum()\n",
    "print(f\"Total Duplicate Rows: {duplicate_rows}\")"
   ]
  },
  {
   "cell_type": "code",
   "execution_count": 23,
   "id": "189c8abf-f709-4eb0-9b5b-ccb07a433f48",
   "metadata": {},
   "outputs": [
    {
     "name": "stdout",
     "output_type": "stream",
     "text": [
      "Unique (Job Title, Company Name, Location) combinations: 4035\n",
      "Total Rows in Dataset: 4092\n"
     ]
    }
   ],
   "source": [
    "unique_combinations = df[['Job Title', 'Company Name', 'Location']].drop_duplicates().shape[0]\n",
    "total_rows = df.shape[0]\n",
    "\n",
    "print(f\"Unique (Job Title, Company Name, Location) combinations: {unique_combinations}\")\n",
    "print(f\"Total Rows in Dataset: {total_rows}\")"
   ]
  },
  {
   "cell_type": "code",
   "execution_count": 25,
   "id": "82a93d6c-3ae4-4e0c-b267-ab7c30354ba2",
   "metadata": {},
   "outputs": [
    {
     "name": "stdout",
     "output_type": "stream",
     "text": [
      "Unique Identifiers: 4092 / 4092\n"
     ]
    }
   ],
   "source": [
    "df[\"Unique_ID\"] = df[\"Job Title\"] + \"_\" + df[\"Company Name\"] + \"_\" + df[\"Location\"] + \"_\" + df.index.astype(str)\n",
    "print(f\"Unique Identifiers: {df['Unique_ID'].nunique()} / {df.shape[0]}\")"
   ]
  },
  {
   "cell_type": "code",
   "execution_count": 27,
   "id": "4c5ca9fb-8ee3-4daa-ad10-b81a90365297",
   "metadata": {},
   "outputs": [
    {
     "name": "stdout",
     "output_type": "stream",
     "text": [
      "Number of companies with only one job posting: 1575\n"
     ]
    }
   ],
   "source": [
    "company_counts = df[\"Company Name\"].value_counts()\n",
    "single_entry_companies = company_counts[company_counts == 1]\n",
    "\n",
    "print(f\"Number of companies with only one job posting: {len(single_entry_companies)}\")"
   ]
  },
  {
   "cell_type": "code",
   "execution_count": 29,
   "id": "b3af20cc-b34c-4997-8db7-bab203f08a0c",
   "metadata": {},
   "outputs": [
    {
     "name": "stdout",
     "output_type": "stream",
     "text": [
      "\n",
      "Data Types:\n",
      " Unnamed: 0           object\n",
      "index                object\n",
      "Job Title            object\n",
      "Salary Estimate      object\n",
      "Job Description      object\n",
      "Rating               object\n",
      "Company Name         object\n",
      "Location             object\n",
      "Headquarters         object\n",
      "Size                 object\n",
      "Founded              object\n",
      "Type of ownership    object\n",
      "Industry             object\n",
      "Sector               object\n",
      "Revenue              object\n",
      "Competitors          object\n",
      "Easy Apply           object\n",
      "Unique_ID            object\n",
      "dtype: object\n"
     ]
    }
   ],
   "source": [
    "print(\"\\nData Types:\\n\", df.dtypes)\n",
    "df[\"Rating\"] = pd.to_numeric(df[\"Rating\"], errors=\"coerce\")\n",
    "df[\"Founded\"] = pd.to_numeric(df[\"Founded\"], errors=\"coerce\")\n",
    "df[\"Easy Apply\"] = df[\"Easy Apply\"].astype(bool)"
   ]
  },
  {
   "cell_type": "code",
   "execution_count": 31,
   "id": "f3fced5b-a189-4589-a062-89db93537776",
   "metadata": {},
   "outputs": [
    {
     "name": "stdout",
     "output_type": "stream",
     "text": [
      "\n",
      "Invalid Ratings Count: 318\n"
     ]
    }
   ],
   "source": [
    "invalid_ratings = df[(df[\"Rating\"] < 0) | (df[\"Rating\"] > 5)]\n",
    "print(f\"\\nInvalid Ratings Count: {len(invalid_ratings)}\")"
   ]
  },
  {
   "cell_type": "code",
   "execution_count": 33,
   "id": "752ba497-cd5f-4464-9ac0-8e2b60c4d18f",
   "metadata": {},
   "outputs": [
    {
     "name": "stdout",
     "output_type": "stream",
     "text": [
      "\n",
      "Invalid Founded Years Count: 1006\n"
     ]
    }
   ],
   "source": [
    "invalid_founded = df[(df[\"Founded\"] < 1600) | (df[\"Founded\"] > 2025)]\n",
    "print(f\"\\nInvalid Founded Years Count: {len(invalid_founded)}\")"
   ]
  },
  {
   "cell_type": "code",
   "execution_count": 35,
   "id": "d54f6fa9-a091-49f6-a446-baed646b0573",
   "metadata": {},
   "outputs": [
    {
     "name": "stdout",
     "output_type": "stream",
     "text": [
      "\n",
      "Number of Outliers in Rating: 333\n"
     ]
    }
   ],
   "source": [
    "def detect_outliers(column):\n",
    "    Q1 = df[column].quantile(0.25)\n",
    "    Q3 = df[column].quantile(0.75)\n",
    "    IQR = Q3 - Q1\n",
    "    return df[(df[column] < (Q1 - 1.5 * IQR)) | (df[column] > (Q3 + 1.5 * IQR))]\n",
    "\n",
    "rating_outliers = detect_outliers(\"Rating\")\n",
    "print(f\"\\nNumber of Outliers in Rating: {len(rating_outliers)}\")"
   ]
  },
  {
   "cell_type": "code",
   "execution_count": 37,
   "id": "efc20788-6166-4765-94c8-716ee575f123",
   "metadata": {},
   "outputs": [
    {
     "name": "stdout",
     "output_type": "stream",
     "text": [
      "Missing Values:\n",
      " Unnamed: 0             0\n",
      "index                  0\n",
      "Job Title              0\n",
      "Salary Estimate        0\n",
      "Job Description        0\n",
      "Rating               400\n",
      "Company Name           0\n",
      "Location               0\n",
      "Headquarters           0\n",
      "Size                   0\n",
      "Founded              341\n",
      "Type of ownership      0\n",
      "Industry               0\n",
      "Sector                 0\n",
      "Revenue                0\n",
      "Competitors          400\n",
      "Easy Apply             0\n",
      "Unique_ID              0\n",
      "dtype: int64\n"
     ]
    }
   ],
   "source": [
    "missing_values = df.isnull().sum()\n",
    "print(\"Missing Values:\\n\", missing_values)"
   ]
  },
  {
   "cell_type": "code",
   "execution_count": 41,
   "id": "1090026e-7afb-49eb-b31d-e1ebeb92a10f",
   "metadata": {},
   "outputs": [],
   "source": [
    "df[\"Rating\"] = df[\"Rating\"].fillna(df[\"Rating\"].median())"
   ]
  },
  {
   "cell_type": "code",
   "execution_count": 43,
   "id": "a01da242-d7f1-422e-a411-408f3aa02e90",
   "metadata": {},
   "outputs": [],
   "source": [
    "df[\"Founded\"] = df[\"Founded\"].fillna(df[\"Founded\"].median())"
   ]
  },
  {
   "cell_type": "code",
   "execution_count": 45,
   "id": "ac976a02-f918-4a5a-873c-0868cedb95b1",
   "metadata": {},
   "outputs": [],
   "source": [
    "df[\"Competitors\"] = df[\"Competitors\"].fillna(\"No Competitors\")"
   ]
  },
  {
   "cell_type": "code",
   "execution_count": 47,
   "id": "e7c41094-2aa4-4e76-9746-aa4d853d055f",
   "metadata": {},
   "outputs": [
    {
     "name": "stdout",
     "output_type": "stream",
     "text": [
      "Missing Values:\n",
      " Unnamed: 0           0\n",
      "index                0\n",
      "Job Title            0\n",
      "Salary Estimate      0\n",
      "Job Description      0\n",
      "Rating               0\n",
      "Company Name         0\n",
      "Location             0\n",
      "Headquarters         0\n",
      "Size                 0\n",
      "Founded              0\n",
      "Type of ownership    0\n",
      "Industry             0\n",
      "Sector               0\n",
      "Revenue              0\n",
      "Competitors          0\n",
      "Easy Apply           0\n",
      "Unique_ID            0\n",
      "dtype: int64\n"
     ]
    }
   ],
   "source": [
    "missing_values = df.isnull().sum()\n",
    "print(\"Missing Values:\\n\", missing_values)"
   ]
  },
  {
   "cell_type": "code",
   "execution_count": 49,
   "id": "47f88968-d837-4820-ac6c-8f802b888d12",
   "metadata": {},
   "outputs": [
    {
     "name": "stdout",
     "output_type": "stream",
     "text": [
      "0    Memorial Sloan-Kettering\n",
      "1     Paine Schwartz Partners\n",
      "2                     Asembia\n",
      "3                          BD\n",
      "4             Rubicon Project\n",
      "Name: Company Name, dtype: object\n"
     ]
    }
   ],
   "source": [
    "import re\n",
    "\n",
    "def clean_company_name(name):\n",
    "    return re.sub(r\"\\s\\d+(\\.\\d+)?$\", \"\", name)\n",
    "\n",
    "df[\"Company Name\"] = df[\"Company Name\"].apply(clean_company_name)\n",
    "\n",
    "print(df[\"Company Name\"].head())"
   ]
  },
  {
   "cell_type": "code",
   "execution_count": 53,
   "id": "0a16944a-c55b-4194-89b0-c1b5e592d501",
   "metadata": {},
   "outputs": [
    {
     "name": "stdout",
     "output_type": "stream",
     "text": [
      "✅ Cleaned dataset saved as BusinessAnalyst_Cleaned.csv\n"
     ]
    }
   ],
   "source": [
    "cleaned_file_path = \"BusinessAnalyst_Cleaned.csv\"\n",
    "df.to_csv(cleaned_file_path, index=False)\n",
    "print(f\"✅ Cleaned dataset saved as {cleaned_file_path}\")"
   ]
  },
  {
   "cell_type": "code",
   "execution_count": null,
   "id": "7b78dafe-0b1f-4290-851e-008811bbefdc",
   "metadata": {},
   "outputs": [],
   "source": []
  }
 ],
 "metadata": {
  "kernelspec": {
   "display_name": "Python [conda env:base] *",
   "language": "python",
   "name": "conda-base-py"
  },
  "language_info": {
   "codemirror_mode": {
    "name": "ipython",
    "version": 3
   },
   "file_extension": ".py",
   "mimetype": "text/x-python",
   "name": "python",
   "nbconvert_exporter": "python",
   "pygments_lexer": "ipython3",
   "version": "3.12.7"
  }
 },
 "nbformat": 4,
 "nbformat_minor": 5
}
